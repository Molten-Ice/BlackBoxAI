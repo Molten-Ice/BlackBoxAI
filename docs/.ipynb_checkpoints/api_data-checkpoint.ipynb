{
 "cells": [
  {
   "cell_type": "code",
   "execution_count": 17,
   "metadata": {},
   "outputs": [
    {
     "name": "stdout",
     "output_type": "stream",
     "text": [
      "The autoreload extension is already loaded. To reload it, use:\n",
      "  %reload_ext autoreload\n"
     ]
    }
   ],
   "source": [
    "%load_ext autoreload\n",
    "%autoreload 2\n",
    "%matplotlib inline"
   ]
  },
  {
   "cell_type": "code",
   "execution_count": 18,
   "metadata": {},
   "outputs": [],
   "source": [
    "#export\n",
    "from pathlib import Path\n",
    "import sys\n",
    "sys.path.append(Path.cwd().parent.as_posix()+'/BlackBoxAI')\n",
    "\n",
    "from data.dataset import Dataset\n",
    "from data.scraper import *"
   ]
  },
  {
   "cell_type": "code",
   "execution_count": 19,
   "metadata": {},
   "outputs": [],
   "source": [
    "#export\n",
    "from torch.utils.data import DataLoader\n",
    "#from torch.utils.data import DataLoader, SequentialSampler, RandomSampler"
   ]
  },
  {
   "cell_type": "code",
   "execution_count": 20,
   "metadata": {},
   "outputs": [],
   "source": [
    "#export\n",
    "def normalize(x, m, s): return (x-m)/s"
   ]
  },
  {
   "cell_type": "code",
   "execution_count": 21,
   "metadata": {},
   "outputs": [],
   "source": [
    "#export\n",
    "def normalize_train_eval(x_train ,x_valid):\n",
    "    train_mean,train_std = x_train.mean(),x_train.std()\n",
    "    x_train = normalize(x_train, train_mean, train_std)\n",
    "    # NB: Use training, not validation mean for validation set\n",
    "    x_valid = normalize(x_valid, train_mean, train_std)\n",
    "    return x_train, x_valid"
   ]
  },
  {
   "cell_type": "code",
   "execution_count": 22,
   "metadata": {},
   "outputs": [],
   "source": [
    "#export\n",
    "class Data():\n",
    "    @classmethod\n",
    "    def avaliable_urls(self):\n",
    "        for key in urls:\n",
    "            print(key, urls[key])\n",
    "    @classmethod\n",
    "    def load_data(self, *args):\n",
    "        x_train,y_train,x_valid,y_valid = get_data(*args)\n",
    "        x_train_normalized, x_valid_normalized = normalize_train_eval(x_train ,x_valid)\n",
    "        train_ds = Dataset(x_train_normalized, y_train)\n",
    "        valid_ds = Dataset(x_valid_normalized, y_valid)\n",
    "        c = y_train.max().item()+1\n",
    "        return train_ds, valid_ds, c\n",
    "    \n",
    "    @classmethod\n",
    "    def get_dls(self, train_ds, valid_ds, bs, **kwargs):\n",
    "        return (DataLoader(train_ds, batch_size=bs, shuffle=True, **kwargs),\n",
    "                DataLoader(valid_ds, batch_size=bs*2, **kwargs))"
   ]
  },
  {
   "cell_type": "code",
   "execution_count": 24,
   "metadata": {},
   "outputs": [
    {
     "name": "stdout",
     "output_type": "stream",
     "text": [
      "Replacing old file\r\n",
      "Converted api_data.ipynb to /data/home/jdavey/notebooks/fastai/BlackBoxAI/BlackBoxAI/api/data.py\r\n"
     ]
    }
   ],
   "source": [
    "!python notebook2script.py api_data.ipynb"
   ]
  },
  {
   "cell_type": "code",
   "execution_count": null,
   "metadata": {},
   "outputs": [],
   "source": []
  }
 ],
 "metadata": {
  "kernelspec": {
   "display_name": "Python (fastai)",
   "language": "python",
   "name": "fastai"
  },
  "language_info": {
   "codemirror_mode": {
    "name": "ipython",
    "version": 3
   },
   "file_extension": ".py",
   "mimetype": "text/x-python",
   "name": "python",
   "nbconvert_exporter": "python",
   "pygments_lexer": "ipython3",
   "version": "3.6.10"
  }
 },
 "nbformat": 4,
 "nbformat_minor": 4
}
